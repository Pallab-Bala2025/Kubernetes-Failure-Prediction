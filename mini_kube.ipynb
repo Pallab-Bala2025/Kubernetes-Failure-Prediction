{
 "cells": [
  {
   "cell_type": "code",
   "execution_count": 2,
   "id": "df6b181a-966d-401d-bad5-8d114aec9819",
   "metadata": {},
   "outputs": [
    {
     "name": "stdout",
     "output_type": "stream",
     "text": [
      "   Feature_0  Feature_1  Feature_2  Feature_3  Feature_4  Feature_5  \\\n",
      "0   0.750938   0.004723   0.111567   0.150392   0.069786        0.0   \n",
      "1   0.000934   0.223643   0.001564   0.001413   0.001719        0.0   \n",
      "2   0.002308   0.430939   0.016673   0.017834   0.015427        0.0   \n",
      "3   0.004821   0.340960   0.023135   0.014543   0.032282        0.0   \n",
      "4   0.004099   0.099738   0.010383   0.004506   0.016643        0.0   \n",
      "\n",
      "   Feature_6  Feature_7  Feature_8  Feature_9  ...  Feature_163  \\\n",
      "0        0.0        0.0        0.0        0.0  ...          0.0   \n",
      "1        0.0        0.0        0.0        0.0  ...          0.0   \n",
      "2        0.0        0.0        0.0        0.0  ...          0.0   \n",
      "3        0.0        0.0        0.0        0.0  ...          0.0   \n",
      "4        0.0        0.0        0.0        0.0  ...          0.0   \n",
      "\n",
      "   CPU Usage (%)  Memory Usage (%)  Network Traffic (B/s)  \\\n",
      "0     117.293777          0.406250           10593.674122   \n",
      "1       0.145899         19.238281             148.481911   \n",
      "2       0.360426         37.070312            1583.164989   \n",
      "3       0.752965         29.330078            2196.701325   \n",
      "4       0.640260          8.579687             985.901076   \n",
      "\n",
      "   Network Receive (B/s)  Network Transmit (B/s)  Network Receive Errors  \\\n",
      "0            7381.046189             3220.910824                     0.0   \n",
      "1              69.350165               79.341959                     0.0   \n",
      "2             875.292491              712.012422                     0.0   \n",
      "3             713.738163             1489.958051                     0.0   \n",
      "4             221.167997              768.121114                     0.0   \n",
      "\n",
      "   Network Transmit Errors  Anomaly  Adjusted_Anomaly  \n",
      "0                      0.0        1                 1  \n",
      "1                      0.0        0                 0  \n",
      "2                      0.0        0                 0  \n",
      "3                      0.0        0                 0  \n",
      "4                      0.0        0                 0  \n",
      "\n",
      "[5 rows x 173 columns]\n"
     ]
    }
   ],
   "source": [
    "import pandas as pd\n",
    "\n",
    "# Load dataset from CSV\n",
    "path=r\"C:\\Users\\Pallab_Bala\\OneDrive\\Desktop\\metrics.csv\"\n",
    "df = pd.read_csv(path)\n",
    "\n",
    "# Display first few rows\n",
    "print(df.head())\n"
   ]
  },
  {
   "cell_type": "code",
   "execution_count": 3,
   "id": "b21542c1-0d07-4a86-b101-ea2d02ca0099",
   "metadata": {},
   "outputs": [
    {
     "name": "stdout",
     "output_type": "stream",
     "text": [
      "Dataset Shape: (11752, 173)\n",
      "Index(['Feature_0', 'Feature_1', 'Feature_2', 'Feature_3', 'Feature_4',\n",
      "       'Feature_5', 'Feature_6', 'Feature_7', 'Feature_8', 'Feature_9',\n",
      "       ...\n",
      "       'Feature_163', 'CPU Usage (%)', 'Memory Usage (%)',\n",
      "       'Network Traffic (B/s)', 'Network Receive (B/s)',\n",
      "       'Network Transmit (B/s)', 'Network Receive Errors',\n",
      "       'Network Transmit Errors', 'Anomaly', 'Adjusted_Anomaly'],\n",
      "      dtype='object', length=173)\n",
      "          Feature_0     Feature_1     Feature_2     Feature_3     Feature_4  \\\n",
      "count  11752.000000  11752.000000  11752.000000  11752.000000  11752.000000   \n",
      "mean       0.011495      0.138271      0.010665      0.008208      0.013226   \n",
      "std        0.079991      0.180041      0.059894      0.060532      0.073945   \n",
      "min        0.000000      0.000000      0.000000      0.000000      0.000000   \n",
      "25%        0.000000      0.005040      0.000000      0.000000      0.000000   \n",
      "50%        0.000054      0.048589      0.000149      0.000018      0.000231   \n",
      "75%        0.000856      0.223927      0.000808      0.000357      0.001587   \n",
      "max        1.000000      1.000000      1.000000      1.000000      1.000000   \n",
      "\n",
      "       Feature_5  Feature_6     Feature_7     Feature_8     Feature_9  ...  \\\n",
      "count    11752.0    11752.0  11752.000000  11752.000000  11752.000000  ...   \n",
      "mean         0.0        0.0      0.010126      0.003319      0.000851  ...   \n",
      "std          0.0        0.0      0.100121      0.057514      0.029159  ...   \n",
      "min          0.0        0.0      0.000000      0.000000      0.000000  ...   \n",
      "25%          0.0        0.0      0.000000      0.000000      0.000000  ...   \n",
      "50%          0.0        0.0      0.000000      0.000000      0.000000  ...   \n",
      "75%          0.0        0.0      0.000000      0.000000      0.000000  ...   \n",
      "max          0.0        0.0      1.000000      1.000000      1.000000  ...   \n",
      "\n",
      "        Feature_163  CPU Usage (%)  Memory Usage (%)  Network Traffic (B/s)  \\\n",
      "count  11752.000000   11616.000000      11037.000000           11609.000000   \n",
      "mean       0.003914       1.795489         11.894334            1012.637814   \n",
      "std        0.062444      12.567262         15.981314            5722.007943   \n",
      "min        0.000000       0.000000          0.000000               0.000000   \n",
      "25%        0.000000       0.000000          0.406250               0.000000   \n",
      "50%        0.000000       0.008356          3.378906              13.346934   \n",
      "75%        0.000000       0.105186         19.667969              76.380071   \n",
      "max        1.000000     156.196439         86.022135           94953.049861   \n",
      "\n",
      "       Network Receive (B/s)  Network Transmit (B/s)  Network Receive Errors  \\\n",
      "count           11609.000000            11609.000000                 11609.0   \n",
      "mean              402.853274              610.441989                     0.0   \n",
      "std              2989.108282             3433.816264                     0.0   \n",
      "min                 0.000000                0.000000                     0.0   \n",
      "25%                 0.000000                0.000000                     0.0   \n",
      "50%                 0.860916               10.389814                     0.0   \n",
      "75%                12.898851               73.048858                     0.0   \n",
      "max             49078.855408            46153.925138                     0.0   \n",
      "\n",
      "       Network Transmit Errors       Anomaly  Adjusted_Anomaly  \n",
      "count                  11609.0  11752.000000       11752.00000  \n",
      "mean                       0.0      0.093176           0.06918  \n",
      "std                        0.0      0.290691           0.25377  \n",
      "min                        0.0      0.000000           0.00000  \n",
      "25%                        0.0      0.000000           0.00000  \n",
      "50%                        0.0      0.000000           0.00000  \n",
      "75%                        0.0      0.000000           0.00000  \n",
      "max                        0.0      1.000000           1.00000  \n",
      "\n",
      "[8 rows x 173 columns]\n",
      "Feature_0                    0\n",
      "Feature_1                    0\n",
      "Feature_2                    0\n",
      "Feature_3                    0\n",
      "Feature_4                    0\n",
      "                          ... \n",
      "Network Transmit (B/s)     143\n",
      "Network Receive Errors     143\n",
      "Network Transmit Errors    143\n",
      "Anomaly                      0\n",
      "Adjusted_Anomaly             0\n",
      "Length: 173, dtype: int64\n"
     ]
    }
   ],
   "source": [
    "# Check dataset shape (rows, columns)\n",
    "print(f\"Dataset Shape: {df.shape}\")\n",
    "\n",
    "# Check column names\n",
    "print(df.columns)\n",
    "\n",
    "# Display summary statistics\n",
    "print(df.describe())\n",
    "\n",
    "# Check for missing values\n",
    "print(df.isnull().sum())\n"
   ]
  },
  {
   "cell_type": "code",
   "execution_count": 4,
   "id": "bf05144b-aac9-4836-a121-6b61a1ac9432",
   "metadata": {},
   "outputs": [
    {
     "name": "stdout",
     "output_type": "stream",
     "text": [
      "0\n"
     ]
    }
   ],
   "source": [
    "# Fill missing values with the median\n",
    "X = df.fillna(df.median())\n",
    "\n",
    "# Check if any missing values remain\n",
    "print(X.isnull().sum().sum())  # Should be 0\n"
   ]
  },
  {
   "cell_type": "code",
   "execution_count": 5,
   "id": "32e938b4-3d39-4ac5-8c04-b7ec4fb7db18",
   "metadata": {},
   "outputs": [],
   "source": [
    "# Define relevant features\n",
    "features = [\"CPU Usage (%)\", \"Memory Usage (%)\", \"Network Traffic (B/s)\", \n",
    "            \"Network Receive (B/s)\", \"Network Transmit (B/s)\", \n",
    "            \"Network Receive Errors\", \"Network Transmit Errors\"]\n",
    "\n",
    "# Define input (X) and target (y)\n",
    "X = df[features]\n",
    "y = df[\"Anomaly\"]  # Change to \"Adjusted_Anomaly\" if needed\n"
   ]
  },
  {
   "cell_type": "code",
   "execution_count": 9,
   "id": "3f3e9c98-147f-448c-a113-c9241aaec804",
   "metadata": {},
   "outputs": [
    {
     "name": "stdout",
     "output_type": "stream",
     "text": [
      "Collecting scikit-learn\n",
      "  Downloading scikit_learn-1.6.1-cp313-cp313-win_amd64.whl.metadata (15 kB)\n",
      "Requirement already satisfied: numpy>=1.19.5 in c:\\users\\pallab_bala\\appdata\\local\\programs\\python\\python313\\lib\\site-packages (from scikit-learn) (2.2.3)\n",
      "Collecting scipy>=1.6.0 (from scikit-learn)\n",
      "  Downloading scipy-1.15.2-cp313-cp313-win_amd64.whl.metadata (60 kB)\n",
      "Collecting joblib>=1.2.0 (from scikit-learn)\n",
      "  Downloading joblib-1.4.2-py3-none-any.whl.metadata (5.4 kB)\n",
      "Collecting threadpoolctl>=3.1.0 (from scikit-learn)\n",
      "  Downloading threadpoolctl-3.6.0-py3-none-any.whl.metadata (13 kB)\n",
      "Downloading scikit_learn-1.6.1-cp313-cp313-win_amd64.whl (11.1 MB)\n",
      "   ---------------------------------------- 0.0/11.1 MB ? eta -:--:--\n",
      "   -- ------------------------------------- 0.8/11.1 MB 4.7 MB/s eta 0:00:03\n",
      "   ---- ----------------------------------- 1.3/11.1 MB 3.1 MB/s eta 0:00:04\n",
      "   ------- -------------------------------- 2.1/11.1 MB 3.7 MB/s eta 0:00:03\n",
      "   ----------- ---------------------------- 3.1/11.1 MB 3.7 MB/s eta 0:00:03\n",
      "   --------------- ------------------------ 4.2/11.1 MB 3.8 MB/s eta 0:00:02\n",
      "   ----------------- ---------------------- 5.0/11.1 MB 3.8 MB/s eta 0:00:02\n",
      "   -------------------- ------------------- 5.8/11.1 MB 3.8 MB/s eta 0:00:02\n",
      "   ----------------------- ---------------- 6.6/11.1 MB 3.8 MB/s eta 0:00:02\n",
      "   -------------------------- ------------- 7.3/11.1 MB 3.8 MB/s eta 0:00:01\n",
      "   ------------------------------ --------- 8.4/11.1 MB 3.8 MB/s eta 0:00:01\n",
      "   --------------------------------- ------ 9.2/11.1 MB 3.8 MB/s eta 0:00:01\n",
      "   ----------------------------------- ---- 10.0/11.1 MB 3.8 MB/s eta 0:00:01\n",
      "   -------------------------------------- - 10.7/11.1 MB 3.8 MB/s eta 0:00:01\n",
      "   ---------------------------------------- 11.1/11.1 MB 3.8 MB/s eta 0:00:00\n",
      "Downloading joblib-1.4.2-py3-none-any.whl (301 kB)\n",
      "Downloading scipy-1.15.2-cp313-cp313-win_amd64.whl (41.0 MB)\n",
      "   ---------------------------------------- 0.0/41.0 MB ? eta -:--:--\n",
      "   - -------------------------------------- 1.0/41.0 MB 4.1 MB/s eta 0:00:10\n",
      "   - -------------------------------------- 1.8/41.0 MB 3.9 MB/s eta 0:00:10\n",
      "   -- ------------------------------------- 2.6/41.0 MB 3.9 MB/s eta 0:00:10\n",
      "   --- ------------------------------------ 3.4/41.0 MB 3.9 MB/s eta 0:00:10\n",
      "   ---- ----------------------------------- 4.2/41.0 MB 3.9 MB/s eta 0:00:10\n",
      "   ----- ---------------------------------- 5.2/41.0 MB 3.9 MB/s eta 0:00:10\n",
      "   ----- ---------------------------------- 6.0/41.0 MB 3.9 MB/s eta 0:00:09\n",
      "   ------ --------------------------------- 6.8/41.0 MB 3.9 MB/s eta 0:00:09\n",
      "   ------- -------------------------------- 7.6/41.0 MB 3.9 MB/s eta 0:00:09\n",
      "   -------- ------------------------------- 8.4/41.0 MB 3.9 MB/s eta 0:00:09\n",
      "   --------- ------------------------------ 9.4/41.0 MB 3.9 MB/s eta 0:00:09\n",
      "   --------- ------------------------------ 10.2/41.0 MB 3.9 MB/s eta 0:00:08\n",
      "   ---------- ----------------------------- 11.0/41.0 MB 3.9 MB/s eta 0:00:08\n",
      "   ----------- ---------------------------- 11.8/41.0 MB 3.9 MB/s eta 0:00:08\n",
      "   ------------ --------------------------- 12.6/41.0 MB 3.9 MB/s eta 0:00:08\n",
      "   ------------- -------------------------- 13.6/41.0 MB 3.9 MB/s eta 0:00:08\n",
      "   -------------- ------------------------- 14.4/41.0 MB 3.9 MB/s eta 0:00:07\n",
      "   -------------- ------------------------- 15.2/41.0 MB 3.9 MB/s eta 0:00:07\n",
      "   --------------- ------------------------ 16.0/41.0 MB 3.9 MB/s eta 0:00:07\n",
      "   ---------------- ----------------------- 16.8/41.0 MB 3.9 MB/s eta 0:00:07\n",
      "   ----------------- ---------------------- 17.8/41.0 MB 3.9 MB/s eta 0:00:06\n",
      "   ------------------ --------------------- 18.6/41.0 MB 3.9 MB/s eta 0:00:06\n",
      "   ------------------ --------------------- 19.4/41.0 MB 3.9 MB/s eta 0:00:06\n",
      "   ------------------- -------------------- 20.2/41.0 MB 3.9 MB/s eta 0:00:06\n",
      "   -------------------- ------------------- 21.0/41.0 MB 3.9 MB/s eta 0:00:06\n",
      "   --------------------- ------------------ 22.0/41.0 MB 3.9 MB/s eta 0:00:05\n",
      "   ---------------------- ----------------- 22.8/41.0 MB 3.9 MB/s eta 0:00:05\n",
      "   ----------------------- ---------------- 23.6/41.0 MB 3.9 MB/s eta 0:00:05\n",
      "   ----------------------- ---------------- 24.4/41.0 MB 3.9 MB/s eta 0:00:05\n",
      "   ------------------------ --------------- 25.2/41.0 MB 3.9 MB/s eta 0:00:05\n",
      "   ------------------------- -------------- 26.0/41.0 MB 3.9 MB/s eta 0:00:04\n",
      "   -------------------------- ------------- 26.7/41.0 MB 3.9 MB/s eta 0:00:04\n",
      "   --------------------------- ------------ 27.8/41.0 MB 3.9 MB/s eta 0:00:04\n",
      "   --------------------------- ------------ 28.6/41.0 MB 3.9 MB/s eta 0:00:04\n",
      "   ---------------------------- ----------- 29.4/41.0 MB 3.9 MB/s eta 0:00:03\n",
      "   ----------------------------- ---------- 30.4/41.0 MB 3.9 MB/s eta 0:00:03\n",
      "   ------------------------------ --------- 31.2/41.0 MB 3.9 MB/s eta 0:00:03\n",
      "   ------------------------------- -------- 32.0/41.0 MB 3.9 MB/s eta 0:00:03\n",
      "   ------------------------------- -------- 32.8/41.0 MB 3.9 MB/s eta 0:00:03\n",
      "   -------------------------------- ------- 33.6/41.0 MB 3.9 MB/s eta 0:00:02\n",
      "   --------------------------------- ------ 34.3/41.0 MB 3.9 MB/s eta 0:00:02\n",
      "   ---------------------------------- ----- 35.4/41.0 MB 3.9 MB/s eta 0:00:02\n",
      "   ----------------------------------- ---- 36.2/41.0 MB 3.9 MB/s eta 0:00:02\n",
      "   ------------------------------------ --- 37.0/41.0 MB 3.9 MB/s eta 0:00:02\n",
      "   ------------------------------------ --- 37.7/41.0 MB 3.9 MB/s eta 0:00:01\n",
      "   ------------------------------------- -- 38.5/41.0 MB 3.9 MB/s eta 0:00:01\n",
      "   -------------------------------------- - 39.3/41.0 MB 3.9 MB/s eta 0:00:01\n",
      "   ---------------------------------------  40.4/41.0 MB 3.9 MB/s eta 0:00:01\n",
      "   ---------------------------------------  40.9/41.0 MB 3.9 MB/s eta 0:00:01\n",
      "   ---------------------------------------- 41.0/41.0 MB 3.8 MB/s eta 0:00:00\n",
      "Downloading threadpoolctl-3.6.0-py3-none-any.whl (18 kB)\n",
      "Installing collected packages: threadpoolctl, scipy, joblib, scikit-learn\n",
      "Successfully installed joblib-1.4.2 scikit-learn-1.6.1 scipy-1.15.2 threadpoolctl-3.6.0\n"
     ]
    },
    {
     "name": "stderr",
     "output_type": "stream",
     "text": [
      "\n",
      "[notice] A new release of pip is available: 24.3.1 -> 25.0.1\n",
      "[notice] To update, run: python.exe -m pip install --upgrade pip\n"
     ]
    }
   ],
   "source": [
    "!pip install -U scikit-learn\n"
   ]
  },
  {
   "cell_type": "code",
   "execution_count": 15,
   "id": "368a1acb-e16e-4b68-9e2b-1f62172451d5",
   "metadata": {},
   "outputs": [],
   "source": [
    "from sklearn.preprocessing import StandardScaler\n",
    "\n",
    "# Scale features\n",
    "scaler = StandardScaler()\n",
    "X_scaled = scaler.fit_transform(X)\n",
    "\n",
    "# Convert back to DataFrame\n",
    "X = pd.DataFrame(X_scaled, columns=features)\n"
   ]
  },
  {
   "cell_type": "code",
   "execution_count": 11,
   "id": "0db3c9e9-627e-4581-bf9f-307506c5384f",
   "metadata": {},
   "outputs": [
    {
     "name": "stdout",
     "output_type": "stream",
     "text": [
      "🔹 Model Accuracy: 100.00%\n",
      "🔹 Classification Report:\n",
      "               precision    recall  f1-score   support\n",
      "\n",
      "           0       1.00      1.00      1.00      2131\n",
      "           1       1.00      1.00      1.00       220\n",
      "\n",
      "    accuracy                           1.00      2351\n",
      "   macro avg       1.00      1.00      1.00      2351\n",
      "weighted avg       1.00      1.00      1.00      2351\n",
      "\n"
     ]
    }
   ],
   "source": [
    "from sklearn.ensemble import RandomForestClassifier\n",
    "from sklearn.model_selection import train_test_split\n",
    "from sklearn.metrics import accuracy_score, classification_report\n",
    "\n",
    "# Split data into training (80%) and testing (20%)\n",
    "X_train, X_test, y_train, y_test = train_test_split(X, y, test_size=0.2, random_state=42)\n",
    "\n",
    "# Train the model\n",
    "model = RandomForestClassifier(n_estimators=100, random_state=42)\n",
    "model.fit(X_train, y_train)\n",
    "\n",
    "# Make predictions\n",
    "y_pred = model.predict(X_test)\n",
    "\n",
    "# Evaluate model performance\n",
    "accuracy = accuracy_score(y_test, y_pred)\n",
    "print(f\"🔹 Model Accuracy: {accuracy * 100:.2f}%\")\n",
    "print(\"🔹 Classification Report:\\n\", classification_report(y_test, y_pred))\n"
   ]
  },
  {
   "cell_type": "code",
   "execution_count": 13,
   "id": "ca014909-7178-42ef-bdfa-654e9e70e9ce",
   "metadata": {},
   "outputs": [
    {
     "name": "stdout",
     "output_type": "stream",
     "text": [
      "✅ Model saved as 'kubernetes_failure_model.pkl'\n"
     ]
    }
   ],
   "source": [
    "import joblib\n",
    "\n",
    "# Save model\n",
    "joblib.dump(model, \"kubernetes_failure_model.pkl\")\n",
    "\n",
    "print(\"✅ Model saved as 'kubernetes_failure_model.pkl'\")\n"
   ]
  },
  {
   "cell_type": "code",
   "execution_count": 1,
   "id": "c93a45da-5122-46da-8431-8425a4342fb7",
   "metadata": {},
   "outputs": [
    {
     "name": "stdout",
     "output_type": "stream",
     "text": [
      "Requirement already satisfied: joblib in c:\\users\\pallab_bala\\appdata\\local\\programs\\python\\python313\\lib\\site-packages (1.4.2)\n",
      "Note: you may need to restart the kernel to use updated packages.\n"
     ]
    },
    {
     "name": "stderr",
     "output_type": "stream",
     "text": [
      "\n",
      "[notice] A new release of pip is available: 24.3.1 -> 25.0.1\n",
      "[notice] To update, run: python.exe -m pip install --upgrade pip\n"
     ]
    }
   ],
   "source": [
    "pip install joblib\n"
   ]
  },
  {
   "cell_type": "code",
   "execution_count": 2,
   "id": "cb31c74a-4f43-44d9-aa8d-2fe29d7b7eb4",
   "metadata": {},
   "outputs": [
    {
     "name": "stdout",
     "output_type": "stream",
     "text": [
      "✅ joblib is installed and working!\n"
     ]
    }
   ],
   "source": [
    "import joblib\n",
    "print(\"✅ joblib is installed and working!\")\n"
   ]
  },
  {
   "cell_type": "code",
   "execution_count": null,
   "id": "8f248038-929e-4862-8b40-e95e9bd7a5d7",
   "metadata": {},
   "outputs": [],
   "source": []
  }
 ],
 "metadata": {
  "kernelspec": {
   "display_name": "Python 3 (ipykernel)",
   "language": "python",
   "name": "python3"
  },
  "language_info": {
   "codemirror_mode": {
    "name": "ipython",
    "version": 3
   },
   "file_extension": ".py",
   "mimetype": "text/x-python",
   "name": "python",
   "nbconvert_exporter": "python",
   "pygments_lexer": "ipython3",
   "version": "3.13.2"
  }
 },
 "nbformat": 4,
 "nbformat_minor": 5
}
